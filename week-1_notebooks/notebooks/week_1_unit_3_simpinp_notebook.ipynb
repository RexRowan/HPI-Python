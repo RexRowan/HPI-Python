{
 "cells": [
  {
   "cell_type": "markdown",
   "metadata": {},
   "source": [
    "# Inputs and Outputs\n",
    "## Outputs\n",
    "\n",
    "When a cell in a Jupyter Notebook is executed, the return value (the result) of \n",
    "the last statement is displayed below the cell. However, if the last statement \n",
    "does not produce a return value (e.g., assigning a value to a variable), there \n",
    "will be no output.\n",
    "\n",
    "This approach has two main drawbacks:  \n",
    "\n",
    "1. Only the result of the last statement is displayed.  \n",
    "2. If the last statement does not return a value, no output is shown at all.  \n",
    "\n",
    "To overcome these limitations, you can use the Python function `print()`. The \n",
    "argument inside the parentheses is displayed as output below the cell.\n",
    "\n",
    "> Excursion:\n",
    ">\n",
    "> There will be a full chapter on functions later, but briefly: A function \n",
    "> consists of a function name — here, `print` — followed by a pair of parentheses. \n",
    "> Inside the parentheses, one or more arguments can be provided, separated\n",
    "> by commas.\n"
   ]
  },
  {
   "cell_type": "code",
   "execution_count": null,
   "metadata": {},
   "outputs": [],
   "source": [
    "print(\"Hello\")\n",
    "print(42)\n",
    "\n",
    "name = \"Joey\"\n",
    "print(name)"
   ]
  },
  {
   "cell_type": "markdown",
   "metadata": {},
   "source": [
    "The desired output is passed as an argument to the `print()` function. It is \n",
    "also possible to provide multiple arguments to `print()`. In this case, the \n",
    "arguments must be separated by a comma (`,`)."
   ]
  },
  {
   "cell_type": "code",
   "execution_count": null,
   "metadata": {},
   "outputs": [],
   "source": [
    "name = \"Joey\"\n",
    "lastname = \"Ramone\"\n",
    "\n",
    "print(name, lastname)"
   ]
  },
  {
   "cell_type": "markdown",
   "metadata": {},
   "source": [
    "## Inputs\n",
    "\n",
    "Remember the exercise on calculating the surface area and volume of a cuboid? \n",
    "So far, recalculating values for a new cuboid has been a tedious process.\n",
    "\n",
    "Each time, you need to:\n",
    "\n",
    "- Locate the relevant cell in the notebook and modify the Python code.  \n",
    "- Re-execute the cell to update the calculation.  \n",
    "\n",
    "A better approach is to have the program request the necessary data as *input*. \n",
    "This way, the Python program remains independent of specific values, allowing \n",
    "the user to provide input dynamically.\n",
    "\n",
    "This follows the classic *IPO* principle in programming:  \n",
    "*Input → Processing → Output*"
   ]
  },
  {
   "cell_type": "markdown",
   "metadata": {},
   "source": [
    "### The `input()` function\n",
    "\n",
    "The `input()` function is used to read user input. A typical function call \n",
    "looks like this:\n",
    "\n",
    "```python\n",
    "i = input(\"Please enter a number:\")\n",
    "print(i)\n",
    "```"
   ]
  },
  {
   "cell_type": "code",
   "execution_count": null,
   "metadata": {},
   "outputs": [],
   "source": [
    "i = input(\"Please insert a number: \")\n",
    "print(i)"
   ]
  },
  {
   "cell_type": "markdown",
   "metadata": {},
   "source": [
    "The `input()` function first displays the provided argument *(e.g., \"Please \n",
    "insert a number:\")*. It then waits for the user to enter a value.  \n",
    "\n",
    "Once the user types a value and presses the *Enter* key, the input is stored in \n",
    "the variable `i`."
   ]
  },
  {
   "cell_type": "markdown",
   "metadata": {},
   "source": [
    "### Exercise\n",
    "\n",
    "Write a program that uses the `input()` function to collect user input for the \n",
    "following details:  \n",
    "\n",
    "- First name  \n",
    "- Last name  \n",
    "- Email address  \n",
    "\n",
    "After retrieving the values, display the entered information as output."
   ]
  },
  {
   "cell_type": "code",
   "execution_count": null,
   "metadata": {},
   "outputs": [],
   "source": []
  },
  {
   "cell_type": "markdown",
   "metadata": {},
   "source": [
    "### Exercise 2\n",
    "\n",
    "Write a program that uses the `input()` function to accept two numbers from the \n",
    "user. Then, calculate and display both the sum and the product of the numbers.\n",
    "\n",
    "Expected form of the output:\n",
    "```bash\n",
    "The sum is 30\n",
    "The product is 225\n",
    "```"
   ]
  },
  {
   "cell_type": "code",
   "execution_count": null,
   "metadata": {},
   "outputs": [],
   "source": []
  }
 ],
 "metadata": {
  "file_extension": ".py",
  "interpreter": {
   "hash": "ac59ebe37160ed0dfa835113d9b8498d9f09ceb179beaac4002f036b9467c963"
  },
  "kernelspec": {
   "display_name": "Python 3 (ipykernel)",
   "language": "python",
   "name": "python3"
  },
  "language_info": {
   "codemirror_mode": {
    "name": "ipython",
    "version": 3
   },
   "file_extension": ".py",
   "mimetype": "text/x-python",
   "name": "python",
   "nbconvert_exporter": "python",
   "pygments_lexer": "ipython3",
   "version": "3.12.2"
  },
  "mimetype": "text/x-python",
  "name": "python",
  "npconvert_exporter": "python",
  "pygments_lexer": "ipython3",
  "version": 3
 },
 "nbformat": 4,
 "nbformat_minor": 4
}
