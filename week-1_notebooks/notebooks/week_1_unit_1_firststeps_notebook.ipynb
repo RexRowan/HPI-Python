{
 "cells": [
  {
   "cell_type": "markdown",
   "id": "0",
   "metadata": {},
   "source": [
    "# Python - Introduction  \n",
    "\n",
    "In the following notebook, we will explore the fundamental concepts of\n",
    "computer programming using Python.  \n",
    "\n",
    "## Python programs consist of statements executed sequentially  \n",
    "\n",
    "What is a Python program? More broadly, what is a computer program?  \n",
    "\n",
    "At its core, a Python program is a series of instructions, also called\n",
    "*statements*, that are executed one after another. However, this order can be\n",
    "altered using control structures like conditions, which we will explore later.  \n",
    "\n",
    "A simple example of a statement is multiplying two numbers. In Python,\n",
    "multiplication is represented by the `*` symbol.  \n",
    "\n",
    "Python can also function as a basic calculator. If you enter a single\n",
    "statement, such as a multiplication or addition operation, Python will compute\n",
    "the result. The following cell contains a complete Python program consisting of\n",
    "just one statement. When executed, the result appears directly below the cell.  \n",
    "\n",
    "To run the cell, click on it and press <kbd>⇧ Shift</kbd> + <kbd>⏎ Enter</kbd> \n",
    "or <kbd>⌃ Control</kbd> + <kbd>⏎ Enter</kbd>.\n",
    "Try modifying the numbers or changing the operator (e.g., `*` to `+`) to\n",
    "experiment with different calculations.\n"
   ]
  },
  {
   "cell_type": "code",
   "execution_count": null,
   "id": "1",
   "metadata": {},
   "outputs": [],
   "source": [
    "5 + 7"
   ]
  },
  {
   "cell_type": "code",
   "execution_count": null,
   "id": "2",
   "metadata": {},
   "outputs": [],
   "source": [
    "12 * 14"
   ]
  },
  {
   "cell_type": "markdown",
   "id": "3",
   "metadata": {},
   "source": [
    "## Mathematical Operators  \n",
    "\n",
    "In Python, `*` and other symbols used for calculations are called *operators*.\n",
    "The table below lists commonly used arithmetic operators:  \n",
    "\n",
    "| Description      | Operator | Example  | Result             |\n",
    "| ---------------- | -------- | -------- | ------------------ |\n",
    "| Addition         | +        | 2 + 3    | 5                  |\n",
    "| Subtraction      | -        | 2 - 3    | -1                 |\n",
    "| Multiplication   | *        | 2 * 3    | 6                  |\n",
    "| Division         | /        | 7 / 3    | 2.3333333333333335 |\n",
    "| Integer Division | //       | 7 // 3   | 2                  |\n",
    "| Modulo           | %        | 7 % 3    | 1                  |\n",
    "| Exponentiation   | **       | 2 ** 0.5 | 1.4142135623730951 |\n",
    "\n",
    "Python follows standard mathematical precedence rules: multiplication and\n",
    "division are performed before addition and subtraction. You can use parentheses\n",
    "`()` to change the order of operations.  \n",
    "\n",
    "### Integer Division and Modulo  \n",
    "\n",
    "Before learning about decimal numbers, you likely encountered integer division\n",
    "in primary school. When dividing `7` by `3`, the result is `2` with a remainder of `1`.\n",
    "Python’s integer division and modulo operators work the same way:  \n",
    "\n",
    "- The integer division `7 // 3` results in `2` (quotient)  \n",
    "- The modulo operation `7 % 3` results in `1` (remainder)  \n",
    "\n",
    "The modulo operator (`%`) is particularly useful in programming, for example,\n",
    "to determine whether a number is even or odd (`n % 2`) or to cycle through a\n",
    "sequence.  \n",
    "\n",
    "Unlike a basic calculator, Python allows you to enter complex formulas in a\n",
    "single statement. Try experimenting with different expressions!"
   ]
  },
  {
   "cell_type": "code",
   "execution_count": null,
   "id": "4",
   "metadata": {},
   "outputs": [],
   "source": [
    "1 + 2 * 3 * 4 * 5 - 6 / 7 % 8**9 * 100"
   ]
  },
  {
   "cell_type": "code",
   "execution_count": null,
   "id": "5",
   "metadata": {},
   "outputs": [],
   "source": [
    "1 + 2 * (3 * 4 * 5 - 6) / (7 % 8) ** 9"
   ]
  },
  {
   "cell_type": "markdown",
   "id": "6",
   "metadata": {},
   "source": [
    "## Fun Fact: Python Can Handle Really Large Numbers \n",
    "\n",
    "Unlike most calculators and many other programming languages, Python has no\n",
    "fixed size limit for integer values — apart from the available memory on your\n",
    "machine. This means you can work with extremely large numbers without\n",
    "encountering overflow errors. Try it!"
   ]
  },
  {
   "cell_type": "code",
   "execution_count": null,
   "id": "7",
   "metadata": {},
   "outputs": [],
   "source": [
    "16485345486715646548961354165486 * 4561234354986145456455156446456"
   ]
  },
  {
   "cell_type": "code",
   "execution_count": null,
   "id": "8",
   "metadata": {},
   "outputs": [],
   "source": [
    "2**800000"
   ]
  }
 ],
 "metadata": {
  "interpreter": {
   "hash": "ac59ebe37160ed0dfa835113d9b8498d9f09ceb179beaac4002f036b9467c963"
  },
  "kernelspec": {
   "display_name": "Python 3",
   "language": "python",
   "name": "python3"
  },
  "language_info": {
   "codemirror_mode": {
    "name": "ipython",
    "version": 3
   },
   "file_extension": ".py",
   "mimetype": "text/x-python",
   "name": "python",
   "nbconvert_exporter": "python",
   "pygments_lexer": "ipython3",
   "version": "3.7.1"
  }
 },
 "nbformat": 4,
 "nbformat_minor": 5
}
