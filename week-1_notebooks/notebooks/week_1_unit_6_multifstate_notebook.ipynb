{
 "cells": [
  {
   "cell_type": "markdown",
   "metadata": {},
   "source": [
    "# Conditional statements - part 2\n",
    "\n",
    "## Multiple Conditions\n",
    "\n",
    "Sometimes you need to handle more than two alternatives in your code. For example,\n",
    "you might want to check if a variable `name` matches \"Peter\", \"Paul\", or \"Mary\".\n",
    "While a single condition can only be `True` or `False`, you can check multiple\n",
    "conditions in sequence using `elif` (else if) statements.\n",
    "\n",
    "Here's the syntax:\n",
    "\n",
    "```python\n",
    "if condition_1:\n",
    "    statement_1\n",
    "elif condition_2:\n",
    "    statement_2\n",
    "elif condition_3:\n",
    "    statement_3\n",
    "else:\n",
    "    statement_4\n",
    "statement_5\n",
    "```\n",
    "\n",
    "The program checks these conditions in order from top to bottom. When it finds the\n",
    "first `True` condition, it executes that code block (the indented statements) and\n",
    "skips all remaining conditions. The `else` block runs only if none of the\n",
    "conditions were true.\n",
    "\n",
    "Important: The order of conditions matters! Consider these examples:"
   ]
  },
  {
   "cell_type": "code",
   "execution_count": null,
   "metadata": {},
   "outputs": [],
   "source": [
    "temperature = int(input(\"How many degrees (Celsius) is it? \"))\n",
    "\n",
    "if temperature > 30:\n",
    "    print(\"hot\")\n",
    "elif temperature > 20:\n",
    "    print(\"warm\")\n",
    "else:\n",
    "    print(\"cold\")"
   ]
  },
  {
   "cell_type": "code",
   "execution_count": null,
   "metadata": {},
   "outputs": [],
   "source": [
    "temperature = int(input(\"How many degrees (Celsius) is it? \"))\n",
    "\n",
    "if temperature > 20:\n",
    "    print(\"warm\")\n",
    "elif temperature > 30:\n",
    "    print(\"hot\")\n",
    "else:\n",
    "    print(\"cold\")"
   ]
  },
  {
   "cell_type": "markdown",
   "metadata": {},
   "source": [
    "## Nesting conditional statements\n",
    "\n",
    "It is even possible to place conditional statements inside other conditional statements. \n",
    "This is called \"nesting\" and it's useful when multiple conditions need to be checked in a\n",
    "specific order."
   ]
  },
  {
   "cell_type": "code",
   "execution_count": null,
   "metadata": {},
   "outputs": [],
   "source": [
    "temperature = int(input(\"Please insert the current temperature: \"))\n",
    "rain = True\n",
    "wind = False\n",
    "\n",
    "if temperature > 20:\n",
    "    print(\"It's warm\")\n",
    "    if rain:\n",
    "        print(\"Warm & raining: summer in Aachen\")\n",
    "        if wind:\n",
    "            print(\"It's warm, it rains and it's windy!\")\n",
    "        else:\n",
    "            print(\"Warm, raining, no wind at all\")\n",
    "    else:\n",
    "        print(\"Warm and dry, beautiful!\")\n",
    "        if wind:\n",
    "            print(\"Warm, dry and windy: Good weather for sailing\")\n",
    "        else:\n",
    "            print(\"Warm, dry, windless: Just lie in the sun\")\n",
    "else:\n",
    "    print(\"If it's cold, I don't care about rain and wind\")"
   ]
  },
  {
   "cell_type": "markdown",
   "metadata": {},
   "source": [
    "## Exercise: ATM Simulation\n",
    "\n",
    "Write a program that simulates an ATM interface. Follow these steps:\n",
    "\n",
    "1. Ask the user to enter their PIN\n",
    "2. Compare the entered PIN with a predetermined correct PIN (a constant value you choose for this program)\n",
    "3. If the PIN is correct:\n",
    "   - Ask how much money they want to withdraw\n",
    "   - Compare the amount with a fixed account balance (again, a constant value you choose)\n",
    "   - If there are sufficient funds:\n",
    "     * Display \"Money is issued\"\n",
    "     * Show the new account balance\n",
    "   - If there are insufficient funds:\n",
    "     * Display an appropriate error message\n",
    "4. If the PIN is incorrect:\n",
    "   - Display an error message\n"
   ]
  },
  {
   "cell_type": "code",
   "execution_count": null,
   "metadata": {},
   "outputs": [],
   "source": [
    "# Your solution here"
   ]
  }
 ],
 "metadata": {
  "file_extension": ".py",
  "interpreter": {
   "hash": "ac59ebe37160ed0dfa835113d9b8498d9f09ceb179beaac4002f036b9467c963"
  },
  "kernelspec": {
   "display_name": "Python 3 (ipykernel)",
   "language": "python",
   "name": "python3"
  },
  "language_info": {
   "codemirror_mode": {
    "name": "ipython",
    "version": 3
   },
   "file_extension": ".py",
   "mimetype": "text/x-python",
   "name": "python",
   "nbconvert_exporter": "python",
   "pygments_lexer": "ipython3",
   "version": "3.13.2"
  },
  "mimetype": "text/x-python",
  "name": "python",
  "npconvert_exporter": "python",
  "pygments_lexer": "ipython3",
  "version": 3
 },
 "nbformat": 4,
 "nbformat_minor": 4
}
