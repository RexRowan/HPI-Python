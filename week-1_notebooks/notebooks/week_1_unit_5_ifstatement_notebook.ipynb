{
 "cells": [
  {
   "cell_type": "markdown",
   "metadata": {},
   "source": [
    "# Conditional Statements - Part 1\n",
    "\n",
    "## Motivation\n",
    "\n",
    "All the programs we have written so far follow a simple sequence of statements. \n",
    "After the program starts, each statement is executed step by step until the \n",
    "program ends. However, in many cases, certain parts of a program should only \n",
    "run under specific conditions. Consider the following scenario and how it could be \n",
    "expressed as [pseudo code](https://de.wikipedia.org/wiki/Pseudocode):\n",
    "\n",
    "> If it rains tomorrow, I will clean up the basement. Then I will tidy the \n",
    "> cupboards and sort the photos. Otherwise, I will go swimming. In the evening, \n",
    "> I will go to the cinema with my wife.\n",
    "\n",
    "This natural language description is imprecise. Often, in spoken language, \n",
    "additional information is conveyed through context. What is likely meant in the \n",
    "example above is:\n",
    "\n",
    "```\n",
    "   If it rains tomorrow, I will:\n",
    "      - clean up the basement\n",
    "      - tidy the cupboards\n",
    "      - sort the photos\n",
    "   Otherwise (so if it doesn't rain), I will:\n",
    "      - go swimming.\n",
    "\n",
    "   In the evening I will go to the cinema with my wife.\n",
    "```\n",
    "\n",
    "Depending on the weather, the program follows one of two possible paths. This \n",
    "is illustrated in the following diagram:\n",
    "\n",
    "![img_conditionals.png](./img/img_conditionals.png)\n",
    "\n",
    "To enable such a decision-based workflow, two components are necessary:\n",
    "\n",
    "1. A structure that allows the program to branch into different paths based on \n",
    "   a given condition.  \n",
    "2. A method for specifying conditions.\n"
   ]
  },
  {
   "cell_type": "markdown",
   "metadata": {},
   "source": [
    "## Conditions\n",
    "\n",
    "What is a condition? In essence, it is something that evaluates to either \n",
    "`True` or `False`. In other words, a condition always results in a `bool` \n",
    "value. Technically, you could use `True` or `False` directly when a condition is \n",
    "required. However, this is not flexible — `True` is always true. More useful \n",
    "conditions involve comparing variables with given values. For example, consider an \n",
    "integer variable `age`. The value of `age` may be equal to `18` or not. Checking \n",
    "whether *age is equal to 18* results in either \n",
    "`True` or `False`. Python provides several comparison operators that can be used with both \n",
    "numerical and string data types. When comparing numbers, the usual numerical \n",
    "ordering applies. For strings, comparisons follow alphabetical order.\n",
    "\n",
    "### Comparison Operators\n",
    "\n",
    "To make decisions in programs, we need a way to define conditions. Python's \n",
    "comparison operators allow us to formulate these conditions. The table below \n",
    "shows common comparison operators, along with examples that evaluate to `True` \n",
    "or `False`.\n",
    "\n",
    "| Operator | Explanation                          | Example `True` | Example `False` |\n",
    "| -------- | ------------------------------------ | -------------- | --------------- |\n",
    "| `==`     | Equal to                            | `2 == 2`       | `2 == 3`        |\n",
    "| `!=`     | Not equal to                        | `2 != 3`       | `2 != 2`        |\n",
    "| `<`      | Less than                           | `2 < 3`        | `2 < 1`         |\n",
    "| `>`      | Greater than                        | `3 > 2`        | `2 > 3`         |\n",
    "| `<=`     | Less than or equal to               | `3 <= 3`       | `3 <= 2`        |\n",
    "| `>=`     | Greater than or equal to            | `2 >= 2`       | `2 >= 3`        |\n",
    "\n",
    "### `=` vs. `==`\n",
    "\n",
    "It is important to distinguish between `=` and `==`:\n",
    "\n",
    "- A single equal sign (`=`) is used for **assignment**. It assigns a value to a \n",
    "  variable. An assignment does not return a value and is neither `True` nor \n",
    "  `False`.  \n",
    "- A double equal sign (`==`) is used for **comparison**. It checks whether the \n",
    "  values on both sides are equal. This comparison returns either `True` or \n",
    "  `False`, but it does not modify the values being compared.\n",
    "\n",
    "## Complex Conditions\n",
    "\n",
    "What if you need to check whether `age` is greater than `18` but less than \n",
    "`30`? In such cases, you can build complex conditions using Boolean operators like \n",
    "`and`, `or`, and `not` (refer to the notebook on data types for details).\n"
   ]
  },
  {
   "cell_type": "markdown",
   "metadata": {},
   "source": [
    "## Exercise\n",
    "\n",
    "Experiment with the comparison operators to understand their behavior. \n",
    "Additionally, test more complex comparisons, such as:\n",
    "\n",
    "```python\n",
    "\"abc\" < \"abd\"\n",
    "\"abcd\" > \"abc\"\n",
    "2 == 2.0\n",
    "1 == True\n",
    "0 != True\n",
    "```\n",
    "\n",
    "Observe the results and analyze why each comparison evaluates to True or False."
   ]
  },
  {
   "cell_type": "code",
   "execution_count": null,
   "metadata": {},
   "outputs": [],
   "source": [
    "1 == True"
   ]
  },
  {
   "cell_type": "markdown",
   "metadata": {},
   "source": [
    "## Conditional statements\n",
    "\n",
    "Using comparison operators, we can now formulate conditional statements in \n",
    "Python. The syntax for a conditional statement is:\n",
    "\n",
    "```python\n",
    "if condition:\n",
    "   statement_a1\n",
    "   ...\n",
    "   statement_an\n",
    "else:\n",
    "   statement_b1\n",
    "   ...\n",
    "   statement_bm\n",
    "```\n",
    "\n",
    "The result of the condition can be either `True` or `False`. If the condition is `True` the statements `a1` to `an` are executed.\n",
    "If the condition is `False` the statements `b1` to `bm` are executed.\n",
    "Note, that the `else` branch is optional, i.e. an\n",
    "`if` condition can also be specified without an `else` alternative. If the condition then is not true (i.e. `false`),\n",
    "the statements of the `if` block are simply skipped.\n",
    "\n",
    "The condition evaluates to either True or False:\n",
    "- If the condition is `True`, the statements `a1` to `an` inside the if block are executed.\n",
    "- If the condition is `False`, the statements `b1` to `bm` inside the else block are executed.\n",
    "\n",
    "Important Notes: The else branch is *optional*. If there is no else block and the condition is \n",
    "`False`, the statements inside the if block are simply skipped."
   ]
  },
  {
   "cell_type": "code",
   "execution_count": null,
   "metadata": {},
   "outputs": [],
   "source": [
    "number = int(input(\"Please type a number: \"))\n",
    "if number > 100:\n",
    "    print(number, \"is greater than 100!\")"
   ]
  },
  {
   "cell_type": "code",
   "execution_count": null,
   "metadata": {},
   "outputs": [],
   "source": [
    "number = int(input(\"Please type a number: \"))\n",
    "if number > 100:\n",
    "    print(number, \"is greater than 100!\")\n",
    "else:\n",
    "    print(number, \"is smaller or equals 100!\")"
   ]
  },
  {
   "cell_type": "markdown",
   "metadata": {},
   "source": [
    "### Indentation Marks the Boundaries of Code Blocks\n",
    "\n",
    "Statements that belong together are called *code blocks*.  \n",
    "\n",
    "Unlike some other programming languages, Python does not use special characters \n",
    "or keywords to indicate the beginning and end of code blocks. Instead, it \n",
    "relies on **indentation** to define structure.\n",
    "\n",
    "### Important Notes:\n",
    "- Indentation and spaces have meaning in Python!  \n",
    "- You **must not** indent arbitrarily within a program, as incorrect indentation \n",
    "  will lead to syntax errors.  \n",
    "\n",
    "Execute the code in the following two cells to observe what happens when \n",
    "indentation is used correctly versus incorrectly.\n"
   ]
  },
  {
   "cell_type": "code",
   "execution_count": null,
   "metadata": {},
   "outputs": [],
   "source": [
    "a = 3\n",
    "    b = 4\n",
    "print(a + b)"
   ]
  },
  {
   "cell_type": "code",
   "execution_count": null,
   "metadata": {},
   "outputs": [],
   "source": [
    "number = 100\n",
    "if number > 0:\n",
    "    print(\"Number is greater than 0\")"
   ]
  },
  {
   "cell_type": "markdown",
   "metadata": {},
   "source": [
    "Let’s test your understanding of code blocks in Python.  \n",
    "\n",
    "Examine the following program. The last statement, `print(\"Done\")`, is **not** \n",
    "indented. What effect does this have on the execution of the program? Now, modify \n",
    "the program by indenting `print(\"Done\")`. How does this change the \n",
    "program’s execution? Observe the difference and analyze why it occurs."
   ]
  },
  {
   "cell_type": "code",
   "execution_count": null,
   "metadata": {},
   "outputs": [],
   "source": [
    "number = int(input(\"Please insert a number: \"))\n",
    "if number > 100:\n",
    "    print(number, \"is greater than 100!\")\n",
    "else:\n",
    "    print(number, \"is smaller oder equals 100!\")\n",
    "print(\"Done\")"
   ]
  },
  {
   "cell_type": "markdown",
   "metadata": {},
   "source": [
    "### Exercise\n",
    "\n",
    "Write a conditional statement that asks for the user's name using the `input()` \n",
    "function.  \n",
    "\n",
    "- If the user enters *\"Harry\"* or *\"Harry Potter\"*, display: `\"Welcome to Gryffindor, Mr. Potter!\"`  \n",
    "- Otherwise, display: `\"Sorry, Hogwarts is full.\"`  \n",
    "\n",
    "Implement the program and test different inputs!"
   ]
  },
  {
   "cell_type": "code",
   "execution_count": null,
   "metadata": {},
   "outputs": [],
   "source": [
    "name = "
   ]
  }
 ],
 "metadata": {
  "file_extension": ".py",
  "interpreter": {
   "hash": "ac59ebe37160ed0dfa835113d9b8498d9f09ceb179beaac4002f036b9467c963"
  },
  "kernelspec": {
   "display_name": "Python 3 (ipykernel)",
   "language": "python",
   "name": "python3"
  },
  "language_info": {
   "codemirror_mode": {
    "name": "ipython",
    "version": 3
   },
   "file_extension": ".py",
   "mimetype": "text/x-python",
   "name": "python",
   "nbconvert_exporter": "python",
   "pygments_lexer": "ipython3",
   "version": "3.13.2"
  },
  "mimetype": "text/x-python",
  "name": "python",
  "npconvert_exporter": "python",
  "pygments_lexer": "ipython3",
  "version": 3
 },
 "nbformat": 4,
 "nbformat_minor": 4
}
