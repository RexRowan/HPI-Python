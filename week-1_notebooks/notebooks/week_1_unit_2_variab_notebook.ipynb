{
 "cells": [
  {
   "cell_type": "markdown",
   "id": "0",
   "metadata": {},
   "source": [
    "# Variables\n",
    "\n",
    "Understanding variables is essential in programming languages.\n",
    "\n",
    "Almost every programming language includes variables. However, in programming, \n",
    "the concept of a variable differs from its mathematical definition. In \n",
    "programming, a variable serves as a reference to a value. From a basic \n",
    "technical perspective, a variable is a designated space in memory that holds \n",
    "a value at a given point in time.\n",
    "\n",
    "## Using variables\n",
    "\n",
    "A value can be assigned or stored in a variable. Similarly, the stored value \n",
    "can be retrieved when needed. *(Important: Retrieving a variable’s value does \n",
    "not remove or change it!)*\n",
    "\n",
    "A variable's value is assigned using the `=` operator. For example, the \n",
    "statement `a = 2` assigns the value `2` to the variable `a`. In later \n",
    "statements, if `a` is used, it holds the assigned value. Consider the \n",
    "example in the following code cell:\n",
    "\n",
    "1. The value `2` is assigned to variable `a`.\n",
    "2. The value `3` is assigned to variable `b`.\n",
    "3. The values of `a` and `b` are retrieved and multiplied.\n",
    "\n",
    "> **Note**\n",
    ">\n",
    "> In mathematics, `a = 2` is an assertion that is either true or false. In \n",
    "> programming, `a = 2` is an instruction that assigns the value `2` to the \n",
    "> variable `a`.\n"
   ]
  },
  {
   "cell_type": "code",
   "execution_count": null,
   "id": "1",
   "metadata": {},
   "outputs": [],
   "source": [
    "a = 2\n",
    "b = 3\n",
    "a * b"
   ]
  },
  {
   "cell_type": "markdown",
   "id": "2",
   "metadata": {},
   "source": [
    "### Several assignments in a sequence\n",
    "\n",
    "A variable's value can be changed through assignment if multiple assignments \n",
    "occur sequentially. In the example below, the variable `a` is used. \n",
    "\n",
    "1. First, the value `2` is assigned to `a`.  \n",
    "2. Then, the value `3` is assigned to `a`, replacing the previous value.  \n",
    "\n",
    "This second assignment overwrites the previous value, meaning `2` is no longer \n",
    "stored in memory. The memory now holds only the new value, `3`, and the \n",
    "previous value is forgotten.\n"
   ]
  },
  {
   "cell_type": "code",
   "execution_count": null,
   "id": "3",
   "metadata": {},
   "outputs": [],
   "source": [
    "a = 2\n",
    "a = 3\n",
    "a"
   ]
  },
  {
   "cell_type": "markdown",
   "id": "4",
   "metadata": {},
   "source": [
    "### Assigning Multiple Values to Multiple Variables\n",
    "\n",
    "Of cause, you can use multiple variables within a Python program. As you have already \n",
    "seen, values can be assigned to these variables individually.\n"
   ]
  },
  {
   "cell_type": "code",
   "execution_count": null,
   "id": "5",
   "metadata": {},
   "outputs": [],
   "source": [
    "a = 1\n",
    "b = 2\n",
    "c = 3\n",
    "\n",
    "b"
   ]
  },
  {
   "cell_type": "markdown",
   "id": "6",
   "metadata": {},
   "source": [
    "### A Variable on Both Sides of an Assignment\n",
    "\n",
    "Assignments in programming may seem unusual—or even incorrect—from a \n",
    "mathematical perspective. This is especially true when a variable appears on \n",
    "both sides of an assignment.\n",
    "\n",
    "In the example below, the variable `a` is increased by `10`. More precisely:\n",
    "\n",
    "1. The current value of `a` is retrieved.  \n",
    "2. The number `10` is added to this value.  \n",
    "3. The result is then stored back into `a`.  \n",
    "\n",
    "Although the assignment updates `a`, the process still follows a logical \n",
    "sequence: the original value is read, modified, and then reassigned to the \n",
    "same memory location."
   ]
  },
  {
   "cell_type": "code",
   "execution_count": null,
   "id": "7",
   "metadata": {},
   "outputs": [],
   "source": [
    "a = 25\n",
    "a = a + 10\n",
    "a"
   ]
  },
  {
   "cell_type": "markdown",
   "id": "8",
   "metadata": {},
   "source": [
    "### Accessing a Variable in Read Mode\n",
    "\n",
    "In the previous examples, you have seen that variables can appear on the right \n",
    "side of the `=` operator. In this case, they are accessed in *read mode*, \n",
    "meaning their current value is retrieved. The left side of the assignment \n",
    "receives a new value, meaning the variable is accessed in *write mode*.\n",
    "\n",
    "A variable can only be accessed in read mode if it has already been assigned a \n",
    "value. Otherwise, an error occurs. Execute the next cell below to observe and \n",
    "understand the error message.\n"
   ]
  },
  {
   "cell_type": "code",
   "execution_count": null,
   "id": "9",
   "metadata": {},
   "outputs": [],
   "source": [
    "a = unknown_variable"
   ]
  },
  {
   "cell_type": "markdown",
   "id": "10",
   "metadata": {},
   "source": [
    "#### Small excursion: How notebook cells Are connected\n",
    "\n",
    "When a cell in a notebook is executed successfully, its results become \n",
    "available to other cells in the notebook.\n",
    "\n",
    "- First, execute the first of the two cells below. You will see an error \n",
    "  message.  \n",
    "- Next, execute the second cell, then run the first cell again. This time, \n",
    "  everything should work correctly.  \n",
    "- To repeat the process from the beginning, reset the output of all cells from \n",
    "  the *Kernel* menu at the top. This clears the stored variable values, making \n",
    "  them *forget* their current state.  \n"
   ]
  },
  {
   "cell_type": "code",
   "execution_count": null,
   "id": "11",
   "metadata": {},
   "outputs": [],
   "source": [
    "a = new_variable + 10\n",
    "a"
   ]
  },
  {
   "cell_type": "code",
   "execution_count": null,
   "id": "12",
   "metadata": {},
   "outputs": [],
   "source": [
    "new_variable = 20"
   ]
  },
  {
   "cell_type": "markdown",
   "id": "13",
   "metadata": {},
   "source": [
    "## Sequentialization of assignments\n",
    "\n",
    "In some cases, multiple operations are applied to a single variable. These \n",
    "operations can be broken down into sequential steps using the approach \n",
    "described above. This can improve readability and make the program easier to \n",
    "understand.\n",
    "\n",
    "For example, the assignment\n",
    "\n",
    "```python\n",
    "a = 5 * 3 * 7 + (2 - 10 * 3)\n",
    "```\n",
    "can be written as follows\n"
   ]
  },
  {
   "cell_type": "code",
   "execution_count": null,
   "id": "14",
   "metadata": {},
   "outputs": [],
   "source": [
    "a = 5\n",
    "a = a * 3\n",
    "a = a * 7\n",
    "a = a + (2 - 10 * 3)\n",
    "a"
   ]
  },
  {
   "cell_type": "markdown",
   "id": "15",
   "metadata": {},
   "source": [
    "## Only one variable on the left side of an assignment\n",
    "\n",
    "The right-hand side of an assignment can contain complex expressions, including \n",
    "operations on other variables. For example:\n",
    "\n",
    "```python\n",
    "a = b ** 2 + c ** 2\n",
    "```\n",
    "\n",
    "However, the left-hand side of an assignment can only contain a single variable. \n",
    "Attempting to use an expression on the left side will result in an error. Execute \n",
    "the following code cell to observe the resulting error message.\n"
   ]
  },
  {
   "cell_type": "code",
   "execution_count": null,
   "id": "16",
   "metadata": {},
   "outputs": [],
   "source": [
    "b = 3\n",
    "c = 4\n",
    "\n",
    "a ** 2 = b ** 2 + c ** 2\n",
    "a"
   ]
  },
  {
   "cell_type": "markdown",
   "id": "17",
   "metadata": {},
   "source": [
    "You may have recognized Pythagoras' theorem in the example above. But how can \n",
    "you determine the length of `a` when `b` and `c` are given? \n",
    "\n",
    "The calculation can be performed in two steps as follows:"
   ]
  },
  {
   "cell_type": "code",
   "execution_count": null,
   "id": "18",
   "metadata": {},
   "outputs": [],
   "source": [
    "b = 3\n",
    "c = 4\n",
    "\n",
    "a = b**2 + c**2\n",
    "a = a**0.5\n",
    "a"
   ]
  },
  {
   "cell_type": "markdown",
   "id": "19",
   "metadata": {},
   "source": [
    "## Variable names\n",
    "\n",
    "In Python, variable names must follow specific rules:\n",
    "\n",
    "- A variable name must start with a letter or an underscore (`_`).  \n",
    "- After the first character, it can contain any combination of letters, digits, \n",
    "  and underscores.  \n",
    "- Variable names cannot include special characters or spaces.  \n",
    "\n",
    "For example, the following variable names are valid:\n"
   ]
  },
  {
   "cell_type": "code",
   "execution_count": null,
   "id": "20",
   "metadata": {},
   "outputs": [],
   "source": [
    "name = \"David\"\n",
    "surname = \"Bowie\"\n",
    "account_balance = -2000\n",
    "_new_balance = 1000"
   ]
  },
  {
   "cell_type": "markdown",
   "id": "21",
   "metadata": {},
   "source": [
    "In contrast, the following variable names are invalid. Execute the cell and check the error message."
   ]
  },
  {
   "cell_type": "code",
   "execution_count": null,
   "id": "22",
   "metadata": {},
   "outputs": [],
   "source": [
    "1_konto = 1234\n",
    "email@fh = 'jacobs@fh-aachen.de'"
   ]
  },
  {
   "cell_type": "markdown",
   "id": "23",
   "metadata": {},
   "source": [
    "In Python, variable names are case sensitive. This means that in a Python program, \n",
    "`name` and `Name` represent different variables. This is illustrated in the following example."
   ]
  },
  {
   "cell_type": "code",
   "execution_count": null,
   "id": "24",
   "metadata": {},
   "outputs": [],
   "source": [
    "name = \"Joey\"\n",
    "Name = \"Ramone\"\n",
    "\n",
    "name + \" \" + Name"
   ]
  },
  {
   "cell_type": "markdown",
   "id": "25",
   "metadata": {},
   "source": [
    "Finally, Python has a set of *reserved keywords* that cannot be used as \n",
    "variable names. These keywords have a special meaning in the language, which \n",
    "you will learn throughout the course.\n",
    "\n",
    "Examples of reserved keywords include `and`, `while`, and `if`.\n",
    "\n",
    "Execute the following cell to see what happens when you try to use a reserved \n",
    "keyword as a variable name. Observe the error message carefully."
   ]
  },
  {
   "cell_type": "code",
   "execution_count": null,
   "id": "26",
   "metadata": {},
   "outputs": [],
   "source": [
    "if = 42"
   ]
  },
  {
   "cell_type": "markdown",
   "id": "27",
   "metadata": {},
   "source": [
    "## Conventions for Variable Names\n",
    "In the Python community, lower case is preferred for variable names. Thus,  `name` is used instead of `Name`. Variable\n",
    "names that consist of several words are separated by an underscore `_`, e.g. `account_number` or\n",
    "`minimum_account_balance`.\n",
    "\n",
    "Not every allowed variable name is a good variable name! A good programming style (not only in Python) is characterised\n",
    "by the fact that a program is easy for a human to understand.\n",
    "\n",
    "> Any fool can write code that a computer can understand. Good programmers write code that humans can understand.<br>\n",
    "> Martin Fowler, 2008.\n",
    "\n",
    "For this reason, you should use variable names that have a meaning.\n",
    "\n",
    "- `new_account_balance` is better than `nab`\n",
    "- `car_length` is better than `length`\n",
    "\n",
    "Make your programs readable by using good variable names so that you will still be able to understand it in a year's\n",
    "time.\n",
    "\n"
   ]
  },
  {
   "cell_type": "code",
   "execution_count": null,
   "id": "28",
   "metadata": {},
   "outputs": [],
   "source": [
    "a = 5\n",
    "b = 7\n",
    "a = b\n",
    "print(a)"
   ]
  },
  {
   "cell_type": "code",
   "execution_count": null,
   "id": "29",
   "metadata": {},
   "outputs": [],
   "source": [
    "a = 5\n",
    "b = 7\n",
    "b = a\n",
    "print(a)\n",
    "print(b)"
   ]
  },
  {
   "cell_type": "markdown",
   "id": "30",
   "metadata": {},
   "source": [
    "## More details about variables\n",
    "\n",
    "In Python, a *variable* is created when it is first assigned a value. Unlike in \n",
    "some other programming languages, variables do not need to be declared before \n",
    "use.  \n",
    "\n",
    "As you have seen earlier, a *variable* can appear on both the right and left sides of the \n",
    "assignment operator at the same time.\n"
   ]
  },
  {
   "cell_type": "code",
   "execution_count": null,
   "id": "31",
   "metadata": {},
   "outputs": [],
   "source": [
    "a = 10\n",
    "a = a + 1\n",
    "print(a)"
   ]
  },
  {
   "cell_type": "markdown",
   "id": "32",
   "metadata": {},
   "source": [
    "In programming the statement in the middle means, that the value in the variable `a` is increased by `1`. Sometimes\n",
    "the term *Increment* is used. This construction is used quite often. Thus Python offers a short way of writing this\n",
    "statement: `a += 1`. Yes, from a mathematics point of view this looks really weird but it simply means that the value\n",
    "stored in `a` is increased by `1`.\n",
    "\n",
    "In programming, the statement in the middle of the previous cell means that \n",
    "the value of the variable `a` is increased by `1`. This process is sometimes \n",
    "referred to as *incrementing*.  \n",
    "\n",
    "Since this operation is quite common, Python provides a shorthand notation:  \n",
    "```python\n",
    "a += 1\n",
    "```  \n",
    "\n",
    "From a mathematical perspective, this may seem unusual, but in programming, it \n",
    "simply means that the current value stored in `a` is increased by `1`.\n"
   ]
  },
  {
   "cell_type": "code",
   "execution_count": null,
   "id": "33",
   "metadata": {},
   "outputs": [],
   "source": [
    "a = 1\n",
    "a += 1\n",
    "print(a)"
   ]
  },
  {
   "cell_type": "markdown",
   "id": "34",
   "metadata": {},
   "source": [
    "The same shorthand notation applies to other operators and values as well."
   ]
  },
  {
   "cell_type": "code",
   "execution_count": null,
   "id": "35",
   "metadata": {},
   "outputs": [],
   "source": [
    "a = 10\n",
    "a *= 2\n",
    "a -= 100\n",
    "print(a)"
   ]
  },
  {
   "cell_type": "markdown",
   "id": "36",
   "metadata": {},
   "source": [
    "## Exercise\n",
    "\n",
    "Calculate the volume and surface area of a cube (where all side lengths `a`, \n",
    "`b`, and `c` are equal) or a cuboid (where `a`, `b`, and `c` are different). \n",
    "\n",
    "Follow these steps:\n",
    "\n",
    "- Choose meaningful variable names to represent the side lengths of the cube \n",
    "  and assign values to them.  \n",
    "- Compute the surface area of the cube and store the result in the variable \n",
    "  `cube_area`.  \n",
    "- Compute the volume of the cube and store the result in the variable \n",
    "  `cube_volume`.  \n",
    "- Display the results using the following statements:  \n",
    "  ```python\n",
    "  print(cube_area)\n",
    "  print(cube_volume)\n",
    "\n",
    "Repeat these steps for the cuboid."
   ]
  },
  {
   "cell_type": "code",
   "execution_count": null,
   "id": "37",
   "metadata": {},
   "outputs": [],
   "source": []
  }
 ],
 "metadata": {
  "interpreter": {
   "hash": "ac59ebe37160ed0dfa835113d9b8498d9f09ceb179beaac4002f036b9467c963"
  },
  "kernelspec": {
   "display_name": "Python 3 (ipykernel)",
   "language": "python",
   "name": "python3"
  },
  "language_info": {
   "codemirror_mode": {
    "name": "ipython",
    "version": 3
   },
   "file_extension": ".py",
   "mimetype": "text/x-python",
   "name": "python",
   "nbconvert_exporter": "python",
   "pygments_lexer": "ipython3",
   "version": "3.12.2"
  }
 },
 "nbformat": 4,
 "nbformat_minor": 5
}
