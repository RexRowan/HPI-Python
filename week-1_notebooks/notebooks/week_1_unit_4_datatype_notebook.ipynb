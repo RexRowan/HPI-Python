{
 "cells": [
  {
   "cell_type": "markdown",
   "metadata": {},
   "source": [
    "# Data Types\n",
    "\n",
    "In this unit, we will discuss *primitive* data types.  \n",
    "\n",
    "## Primitive Data Types\n",
    "\n",
    "In Python, as in most other programming languages, every variable and \n",
    "expression has a *data type*. In previous Jupyter Notebooks, we have already \n",
    "used several of these *data types* without explicitly naming them.  \n",
    "\n",
    "For example, the following expression contains two values of the `Integer` data \n",
    "type. The result also belongs to the same data type, `Integer`.\n"
   ]
  },
  {
   "cell_type": "code",
   "execution_count": null,
   "metadata": {},
   "outputs": [],
   "source": [
    "1 + 2"
   ]
  },
  {
   "cell_type": "markdown",
   "metadata": {},
   "source": [
    "Python distinguishes between *primitive* and *complex* data types. In this \n",
    "notebook, we will introduce the different *primitive* data types, which are \n",
    "listed in the table below:\n",
    "\n",
    "| Description       | Python data type | Example values |\n",
    "| ----------------- | ---------------- | -------------- |\n",
    "| Integer numbers   | Integer (`int`)  | 42, 0, -11     |\n",
    "| Decimal numbers   | Float (`float`)  | 2.0, -3.14     |\n",
    "| Logical values    | Boolean (`bool`) | True, False    |\n",
    "| Character strings | String (`str`)   | \"Hello world\"  |"
   ]
  },
  {
   "cell_type": "markdown",
   "metadata": {},
   "source": [
    "The built-in Python function `type()` ([Python documentation: type](https://docs.python.org/3/library/functions.html#type)) can be used to determine the data type of a parameter.\n",
    "\n",
    "In the following cell, the `type()` function is used to display the data type \n",
    "of the values `41`, `-3.14`, `True`, and `\"Hello World\"`."
   ]
  },
  {
   "cell_type": "code",
   "execution_count": null,
   "metadata": {},
   "outputs": [],
   "source": [
    "print(type(42))\n",
    "print(type(-3.14))\n",
    "print(type(True))\n",
    "\n",
    "s = \"Hello World\"\n",
    "print(type(s))"
   ]
  },
  {
   "cell_type": "markdown",
   "metadata": {},
   "source": [
    "A brief explanation of the notation `print(type(42))`:  \n",
    "\n",
    "Here, the functions `print()` and `type()` are nested. This means that `type()` \n",
    "first receives `42` as its input value. The `type()` function then returns an \n",
    "output, which serves as the input for `print()`. As a result, the `print()` \n",
    "function displays `<class 'int'>` below the cell.\n",
    "\n",
    "Functions can be nested within each other. In such cases, they are executed \n",
    "from inside out. The return value of the inner function serves as an input \n",
    "argument for the outer function. \n",
    "\n",
    "It is possible to have multiple levels of nesting, but deeply nested statements \n",
    "can become difficult to read and understand."
   ]
  },
  {
   "cell_type": "markdown",
   "metadata": {},
   "source": [
    "## Integer\n",
    "\n",
    "The first primitive data type we will explore in detail is `int`. This data \n",
    "type is used to represent [integers](https://en.wikipedia.org/wiki/Integer). \n",
    "The set of integer values includes ..., -3, -2, -1, 0, 1, 2, 3, ... (i.e., \n",
    "$\\mathbb{Z}$).\n",
    "\n",
    "Unlike many other programming languages, Python's `int` type is not limited to \n",
    "a fixed range. Instead, its value range is constrained only by the available \n",
    "internal memory of the computer. This allows Python to handle calculations \n",
    "with extremely large numbers.\n",
    "\n",
    "In the following cell, you can see examples of the `int` data type. Try \n",
    "entering different numbers yourself to explore how Python handles integers!"
   ]
  },
  {
   "cell_type": "code",
   "execution_count": null,
   "metadata": {},
   "outputs": [],
   "source": [
    "print(type(2))\n",
    "print(type(-5))\n",
    "\n",
    "x = 10000000000000000000000000000000000000\n",
    "print(type(x))\n",
    "\n",
    "x_squared = x * x\n",
    "print(x_squared)\n",
    "print(type(x_squared))"
   ]
  },
  {
   "cell_type": "markdown",
   "metadata": {},
   "source": [
    "## Float\n",
    "\n",
    "Unlike the `int` data type, `float` is used to represent \n",
    "[floating-point numbers](https://en.wikipedia.org/wiki/Floating-point_arithmetic). \n",
    "Decimal places are indicated using a dot (`.`).  \n",
    "\n",
    "As shown in the following cell, the `float` type also supports exponential \n",
    "notation. For example, `6.62e-34` represents the number $6.62 \\times 10^{-34}$."
   ]
  },
  {
   "cell_type": "code",
   "execution_count": null,
   "metadata": {},
   "outputs": [],
   "source": [
    "print(type(0.1))\n",
    "print(type(0.0))\n",
    "\n",
    "h = 6.63e-34  # https://en.wikipedia.org/wiki/Planck_constant\n",
    "print(h)\n",
    "print(type(h))\n",
    "\n",
    "g = 1e100  # https://en.wikipedia.org/wiki/Googol\n",
    "print(g)\n",
    "print(type(g))"
   ]
  },
  {
   "cell_type": "markdown",
   "metadata": {
    "jp-MarkdownHeadingCollapsed": true
   },
   "source": [
    "## Operations\n",
    "\n",
    "The following table was previously introduced in the unit on variables. Now, \n",
    "let’s examine these operations from a data type perspective.\n",
    "\n",
    "| Description      | Operator | Example  | Result             |\n",
    "| --------------- | -------- | -------- | ------------------ |\n",
    "| Addition        | `+`      | `2 + 3`  | `5`                |\n",
    "| Subtraction     | `-`      | `2 - 3`  | `-1`               |\n",
    "| Multiplication  | `*`      | `2 * 3`  | `6`                |\n",
    "| Division        | `/`      | `7 / 3`  | `2.3333333333333335` |\n",
    "| Integer division | `//`    | `7 // 3` | `2`                |\n",
    "| Modulo          | `%`      | `7 % 3`  | `1`                |\n",
    "| Exponentiation  | `**`     | `2 ** 0.5` | `1.4142135623730951` |\n",
    "\n",
    "As you can see, most operations with two integers as input produce an integer \n",
    "as output. However, division (`/`) always returns a `float`, even if the \n",
    "result appears to be a whole number. Additionally, operations involving both\n",
    "`int` and `float` values result in a `float`, as shown in the last example.\n"
   ]
  },
  {
   "cell_type": "markdown",
   "metadata": {},
   "source": [
    "## Exercise\n",
    "\n",
    "Experiment with different operations using the `int` and `float` data types. \n",
    "Use the `type()` function to determine the resulting data type of each \n",
    "operation.\n",
    "\n",
    "Consider the following questions:\n",
    "\n",
    "- What happens when an `int` value is combined with a `float` value using an \n",
    "  operator?  \n",
    "- Do operations involving only `int` values always produce an `int` result?  \n",
    "\n",
    "Test your assumptions by running different calculations!\n"
   ]
  },
  {
   "cell_type": "code",
   "execution_count": null,
   "metadata": {},
   "outputs": [],
   "source": [
    "integer_value = 5\n",
    "print(type(integer_value))\n",
    "\n",
    "float_value = 6.78\n",
    "print(type(float_value))\n",
    "\n",
    "combinated_value = integer_value + float_value\n",
    "print(\"The combined value's type is:\", type(combinated_value))\n",
    "\n",
    "# More values for experimentations:\n",
    "print(-12345678900000000000.0)\n",
    "print(3 / 1)\n",
    "print(2e306 * 10)"
   ]
  },
  {
   "cell_type": "markdown",
   "metadata": {},
   "source": [
    "## Accuracy of operations on `float` Values\n",
    "\n",
    "Execute the calculations in the following two cells.\n",
    "\n",
    "- Are the computed results accurate?  \n",
    "- If not, what might be causing these discrepancies?  \n",
    "\n",
    "Consider potential limitations in how floating-point numbers are represented in \n",
    "Python.\n"
   ]
  },
  {
   "cell_type": "code",
   "execution_count": null,
   "metadata": {},
   "outputs": [],
   "source": [
    "a = 0.1\n",
    "b = 0.2\n",
    "\n",
    "sum = a + b\n",
    "print(sum)"
   ]
  },
  {
   "cell_type": "code",
   "execution_count": null,
   "metadata": {},
   "outputs": [],
   "source": [
    "root_of_2 = 2**0.5\n",
    "\n",
    "two = root_of_2**2\n",
    "print(two)"
   ]
  },
  {
   "cell_type": "markdown",
   "metadata": {},
   "source": [
    "Internally, Python represents floating-point numbers with a precision of 15\n",
    "to 16 digits using the binary system ([IEEE 754](https://de.wikipedia.org/wiki/IEEE_754)).\n",
    "This representation allows calculations with both very large and very small numbers. \n",
    "However, rounding errors can occur in certain cases. Some numbers cannot be \n",
    "precisely represented in the binary system, similar to how `1/3` cannot be \n",
    "represented exactly in the decimal system.\n",
    "\n",
    "For more examples of unexpected behavior when working with floating-point \n",
    "numbers, refer to the [Python Documentation](https://docs.python.org/3/tutorial/floatingpoint.html).\n"
   ]
  },
  {
   "cell_type": "markdown",
   "metadata": {},
   "source": [
    "## More Data Types\n",
    "### Boolean\n",
    "\n",
    "The `bool` data type represents truth values. It can only take two possible \n",
    "values: `True` or `False`.\n",
    "\n",
    "Python provides special logical operators for working with `bool` values:\n",
    "\n",
    "| Operator | Explanation  | Example     |\n",
    "| -------- | ----------- | ----------- |\n",
    "| `not`    | Negation    | `not y`     |\n",
    "| `and`    | Logical AND | `x and y`   |\n",
    "| `or`     | Logical OR  | `a or b or c` |\n",
    "\n",
    "These operators allow you to perform logical operations, combining `True` and \n",
    "`False` values to control program flow.\n"
   ]
  },
  {
   "cell_type": "markdown",
   "metadata": {},
   "source": [
    "### Exercise\n",
    "\n",
    "In the following cell, you will find examples demonstrating the use of `bool` \n",
    "values.  \n",
    "\n",
    "Consider the following questions:  \n",
    "\n",
    "- What happens when you combine a `bool` value with an `int`?  \n",
    "- What happens when you combine a `bool` value with a `float`?  \n",
    "- Which operators can be used for these combinations?  \n",
    "- What is the data type of the result?  \n",
    "\n",
    "Test different operations and analyze the outcomes!\n"
   ]
  },
  {
   "cell_type": "code",
   "execution_count": null,
   "metadata": {},
   "outputs": [],
   "source": [
    "print(False and False)\n",
    "print(not False)\n",
    "\n",
    "a = True\n",
    "b = False\n",
    "\n",
    "print(\"True and True: \", True and True)\n",
    "print(\"a and b: \", a and b)\n",
    "print(\"a or b: \", a or b)\n",
    "\n",
    "print(\"Complex logical expression: \", a and (b or (True and False)))"
   ]
  },
  {
   "cell_type": "markdown",
   "metadata": {},
   "source": [
    "### String\n",
    "To process character strings, the `String` data type is used. Strictly speaking `String` is not a primitive data type, but\n",
    "a [sequence data type](https://docs.python.org/3/library/stdtypes.html#typesseq). Since strings happen to occur very\n",
    "often in simple programs, the data type `String` will be introduced nevertheless.\n",
    "\n",
    "In Python, `Strings` can be created with either single or double quotes. There are subtle differences between the two\n",
    "variations, which will not be discussed further at this point. We will prefer to use double quotes (`\"`) when working\n",
    "with `Strings`.\n",
    "\n",
    "In the following cell you can see, that it is possible to use the `+` operator not only on integers (and floats) but as well on strings. Moreover, it is possible to multiply a string with an interger. What happens, if you multiply a string with a float?\n",
    "\n",
    "\n",
    "### String\n",
    "\n",
    "The `str` data type is used to handle character strings. Strictly speaking,\n",
    "`str` is not a primitive data type but a [sequence data type](https://docs.python.org/3/library/stdtypes.html#typesseq). \n",
    "However, since strings are widely used in simple programs, we introduce them\n",
    "here.\n",
    "\n",
    "In Python, `str` values can be created using either single (`'`) or double \n",
    "(`\"`) quotes. There are subtle differences between the two, but for simplicity, \n",
    "we will use double quotes (`\"`) when working with strings.\n",
    "\n",
    "In the following cell, you can observe that the `+` operator works not only \n",
    "with `int` and `float` values but also with strings. Additionally, a string can \n",
    "be multiplied by an `int`. Consider the following question:\n",
    "- What happens if you try to multiply a string by a `float`?\n"
   ]
  },
  {
   "cell_type": "code",
   "execution_count": null,
   "metadata": {},
   "outputs": [],
   "source": [
    "print(type(\"Hello World\"))\n",
    "\n",
    "a = \"Hello\"\n",
    "b = \"World\"\n",
    "\n",
    "print(a, b)\n",
    "print(a + b)\n",
    "\n",
    "print(3 * a)"
   ]
  },
  {
   "cell_type": "markdown",
   "metadata": {},
   "source": [
    "#### String methods\n",
    "Python provides a variety of [methods](https://docs.python.org/3/library/string.html) for processing `str` \n",
    "values. A small selection of these methods is shown below:\n",
    "\n",
    "* `.lower()`: changes all upper case letters to lower case\n",
    "* `.upper()`: changes all lowercase letters to uppercase\n",
    "* `.replace()`: is used to replace a given sequence within a `str` with another one"
   ]
  },
  {
   "cell_type": "markdown",
   "metadata": {},
   "source": [
    "#### Exercise\n",
    "\n",
    "Experiment with different operations on `str` values.\n",
    "\n",
    "- What happens when you try to add a `str` and an `int`?  \n",
    "- Use the string methods mentioned above to manipulate text.  \n",
    "\n",
    "Test different cases and observe the results!"
   ]
  },
  {
   "cell_type": "code",
   "execution_count": null,
   "metadata": {},
   "outputs": [],
   "source": [
    "a = \"Ramones\"\n",
    "print(a.upper())\n",
    "\n",
    "print(\"hitchhiker\".replace(\"hi\", \"ma\"))"
   ]
  },
  {
   "cell_type": "markdown",
   "metadata": {},
   "source": [
    "#### Exercise\n",
    "\n",
    "Ask the user to enter two numbers using the `input()` function. Then, add the \n",
    "two numbers and print the result.\n",
    "\n",
    "Consider the following questions:\n",
    "\n",
    "- What issue occurs when performing the addition?  \n",
    "- What is the data type of the input values?  \n",
    "\n",
    "Test the behavior and analyze the outcome!"
   ]
  },
  {
   "cell_type": "code",
   "execution_count": null,
   "metadata": {},
   "outputs": [],
   "source": [
    "a = input(\"Please insert a number A: \")\n",
    "\n",
    "# Please add your code in the following lines\n",
    "\n",
    "b = "
   ]
  },
  {
   "cell_type": "markdown",
   "metadata": {},
   "source": [
    "## Type conversion\n",
    "\n",
    "Operations on `str` values sometimes lead to unexpected results. Attempting to \n",
    "add a `str` and an `int` results in an error. However, adding two `str` values \n",
    "concatenates them instead of performing arithmetic addition.\n",
    "\n",
    "This issue frequently occurs when working with user input, as values entered \n",
    "through `input()` are always of type `str`. Before performing numerical \n",
    "operations, these values may need to be converted to an appropriate data type.\n",
    "\n",
    "Python provides several [built-in functions](https://docs.python.org/3/library/functions.html) for \n",
    "converting between different data types:\n",
    "\n",
    "| Function | Explanation                                          | Example        |\n",
    "| -------- | ---------------------------------------------------- | -------------- |\n",
    "| `int()`  | Converts the given value to an `int`                | `int(\"10\")`    |\n",
    "| `float()` | Converts the given value to a `float`              | `float(\"3.14\")` |\n",
    "| `bool()` | Converts the given value to a `bool`                | `bool(\"Hello\")` |\n",
    "| `str()`  | Converts the given value to a `str`                 | `str(True)`    |\n",
    "\n",
    "Understanding type conversion is essential when handling user input and \n",
    "ensuring correct operations on different data types.\n"
   ]
  },
  {
   "cell_type": "markdown",
   "metadata": {},
   "source": [
    "## Exercise\n",
    "Experiment with converting values between different data types.  \n",
    "\n",
    "- Determine the resulting data type and value after each conversion.  \n",
    "- What happens when you concatenate different conversions?  \n",
    "\n",
    "Try various combinations and analyze the outcomes!"
   ]
  },
  {
   "cell_type": "code",
   "execution_count": null,
   "metadata": {},
   "outputs": [],
   "source": [
    "s = \"Hello\"\n",
    "i = 2019\n",
    "print(s + str(i))\n",
    "\n",
    "print(bool(0))\n",
    "\n",
    "print(int(bool(3)))\n",
    "\n",
    "bool(\" \")"
   ]
  },
  {
   "cell_type": "markdown",
   "metadata": {},
   "source": [
    "## Type conversion and the `input()` function\n",
    "\n",
    "As mentioned earlier, the `input()` function always returns a value of type \n",
    "`str`. If a different data type is required, the input must be converted \n",
    "before use.\n",
    "\n",
    "The following cells demonstrate the necessary conversion process."
   ]
  },
  {
   "cell_type": "code",
   "execution_count": null,
   "metadata": {},
   "outputs": [],
   "source": [
    "age = input(\"Please insert your age: \")\n",
    "age = int(age)\n",
    "print(age)\n",
    "print(type(age))"
   ]
  },
  {
   "cell_type": "code",
   "execution_count": null,
   "metadata": {},
   "outputs": [],
   "source": [
    "# Alternatively it is also possible to nest these functions\n",
    "age = int(input(\"Please insert your Age: \"))\n",
    "print(type(age))"
   ]
  },
  {
   "cell_type": "markdown",
   "metadata": {},
   "source": [
    "### Exercise\n",
    "\n",
    "Modify the cuboid program so that it reads the length, width, and height from \n",
    "user input using the `input()` function.\n",
    "\n",
    "**Notes:**\n",
    "- The `print()` function can output multiple values by separating them with \n",
    "  commas.  \n",
    "  Example: `print(a, b, c)`  \n",
    "- The `print()` function can also display `str` values directly.  \n",
    "  Example: `print(\"The result is:\")`  \n",
    "\n",
    "Implement the program and test its functionality!\n"
   ]
  },
  {
   "cell_type": "markdown",
   "metadata": {},
   "source": [
    "### Exercise 2\n",
    "\n",
    "Use the `type()` function to assign the type of the variable `number_of_ramones` to the variable `answer`, then print it.\n"
   ]
  },
  {
   "cell_type": "code",
   "execution_count": null,
   "metadata": {},
   "outputs": [],
   "source": [
    "number_of_ramones = 4\n",
    "answer = #your function\n",
    "print(answer)"
   ]
  }
 ],
 "metadata": {
  "file_extension": ".py",
  "interpreter": {
   "hash": "ae5a99a2531053e9be9d669b7bfc08eaacd0186491e01eb4522a2d385742a1d5"
  },
  "kernelspec": {
   "display_name": "Python 3 (ipykernel)",
   "language": "python",
   "name": "python3"
  },
  "language_info": {
   "codemirror_mode": {
    "name": "ipython",
    "version": 3
   },
   "file_extension": ".py",
   "mimetype": "text/x-python",
   "name": "python",
   "nbconvert_exporter": "python",
   "pygments_lexer": "ipython3",
   "version": "3.12.2"
  },
  "mimetype": "text/x-python",
  "name": "python",
  "npconvert_exporter": "python",
  "pygments_lexer": "ipython3",
  "version": 3
 },
 "nbformat": 4,
 "nbformat_minor": 4
}
