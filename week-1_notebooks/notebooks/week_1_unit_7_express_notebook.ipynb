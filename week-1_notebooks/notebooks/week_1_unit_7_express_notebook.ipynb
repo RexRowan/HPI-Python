{
 "cells": [
  {
   "cell_type": "markdown",
   "metadata": {},
   "source": [
    "# Complex conditions\n",
    "\n",
    "As shown in the introduction to primitive data types, Python provides logical \n",
    "operators `and`, `or`, and `not` to create complex conditions. These operators \n",
    "help combine multiple comparisons into a single \n",
    "expression. As with any expression parentheses can be used to control the evaluation \n",
    "order and group expressions. But remember that overly complex conditions can make \n",
    "code difficult to understand.\n"
   ]
  },
  {
   "cell_type": "code",
   "execution_count": null,
   "metadata": {},
   "outputs": [],
   "source": [
    "number = int(input(\"Please insert a number: \"))\n",
    "\n",
    "if (number % 3 == 0) and (number % 5 == 0):\n",
    "    print(number, \"can be divided by 3 and 5.\")"
   ]
  },
  {
   "cell_type": "code",
   "execution_count": null,
   "metadata": {},
   "outputs": [],
   "source": [
    "a = 5\n",
    "b = 8\n",
    "c = 10\n",
    "d = True\n",
    "e = False\n",
    "\n",
    "\n",
    "if a < 6 and b > 7 and c >= 10 and d and not e:\n",
    "    print(\"Wow, that was a complicated condition!\")\n",
    "\n",
    "if c == 7 or not e:\n",
    "    print(\"This one was easier...\")"
   ]
  },
  {
   "cell_type": "code",
   "execution_count": null,
   "metadata": {},
   "outputs": [],
   "source": [
    "print(False and False or True)\n",
    "print(False and (False or True))"
   ]
  },
  {
   "cell_type": "markdown",
   "metadata": {},
   "source": [
    "# Validating Input\n",
    "\n",
    "The `input()` function always returns data as a string. You can convert this \n",
    "string to other data types using functions like `int()` or `bool()`.  \n",
    "\n",
    "But what happens if the user enters something that can’t be converted to a \n",
    "number—like `\"twenty\"`?"
   ]
  },
  {
   "cell_type": "code",
   "execution_count": null,
   "metadata": {},
   "outputs": [],
   "source": [
    "number = int(input(\"Please enter a number:\"))"
   ]
  },
  {
   "cell_type": "markdown",
   "metadata": {},
   "source": [
    "This would result in an error and crash the program. To prevent that, it's a good idea to validate the input before attempting a conversion.\n",
    "\n",
    "Python provides several [`String` methods](https://docs.python.org/3/library/stdtypes.html#string-methods) \n",
    "that are useful for this purpose:\n",
    "\n",
    "- `isdecimal()`\n",
    "- `isalpha()`\n",
    "- `isspace()`\n",
    "\n",
    "These `is...()` methods return a boolean value (`True` or `False`), making them ideal for input validation.\n",
    "\n"
   ]
  },
  {
   "cell_type": "code",
   "execution_count": null,
   "metadata": {},
   "outputs": [],
   "source": [
    "number = input(\"Please insert a number: \")\n",
    "\n",
    "if number.isdigit():\n",
    "    number = int(number)\n",
    "    print(\"Very nice,\", number, \"is my favourite number.\")\n",
    "else:\n",
    "    print(\"Sorry, that was not a number!\")"
   ]
  },
  {
   "cell_type": "markdown",
   "metadata": {},
   "source": [
    "# Exercise 1: Weather Program\n",
    "\n",
    "Examine the weather program from the previous unit. Consider these questions:\n",
    "1. Why are the conditions nested?\n",
    "2. Can you rewrite it without nested conditions?\n",
    "3. Which version is easier to understand?\n",
    "Modify the program and check for yourself. "
   ]
  },
  {
   "cell_type": "code",
   "execution_count": null,
   "metadata": {},
   "outputs": [],
   "source": [
    "temperature = int(input(\"Please insert the current temperature: \"))\n",
    "rain = True\n",
    "wind = False\n",
    "\n",
    "if temperature > 20:\n",
    "    print(\"It's warm\")\n",
    "    if rain:\n",
    "        print(\"Warm & raining: summer in Aachen\")\n",
    "        if wind:\n",
    "            print(\"It's warm, it rains and it's windy!\")\n",
    "        else:\n",
    "            print(\"Warm, raining, no wind at all\")\n",
    "    else:\n",
    "        print(\"Warm and dry, beautiful!\")\n",
    "        if wind:\n",
    "            print(\"Warm, dry and windy: Good weather for sailing\")\n",
    "        else:\n",
    "            print(\"Warm, dry, windless: Just lie in the sun\")\n",
    "else:\n",
    "    print(\"If it's cold, I don't care about rain and wind\")"
   ]
  },
  {
   "cell_type": "code",
   "execution_count": null,
   "metadata": {},
   "outputs": [],
   "source": [
    "# Your solution here"
   ]
  },
  {
   "cell_type": "markdown",
   "metadata": {},
   "source": [
    "# Exercise 2: Leap Year Calculator\n",
    "\n",
    "As is well known, a calendar year has either 365 or 366 days. According to the \n",
    "Gregorian calendar, a year lasts exactly 365.2425 days — that is, 365 days,\n",
    "5 hours, 49 minutes, and 12 seconds, or in total: 31,556,952 seconds.\n",
    "Roughly speaking, this means a year is about 1/4 of a day longer than 365 days.\n",
    "\n",
    "To compensate for this difference, leap days were introduced. Every four years, \n",
    "February 29 is added as a leap day. However, this correction introduces a small \n",
    "new error: we now have about 1/100 of a day too much each year. To fix this, every 100 years \n",
    "— if the year is divisible by 100 — no leap day is \n",
    "added. For example, the year 1900 was *not* a leap year, even though it is \n",
    "divisible by 4. \n",
    "\n",
    "But there is still one more adjustment necessary: every 400 years, a leap day *is* added, even \n",
    "if the year is divisible by 100. For example, the year 2000 *was* a leap year.\n",
    "\n",
    "## Task\n",
    "\n",
    "Based on these rules, write a Python program that determines whether a given \n",
    "year is a leap year or not."
   ]
  },
  {
   "cell_type": "code",
   "execution_count": null,
   "metadata": {},
   "outputs": [],
   "source": [
    "# Your solution here"
   ]
  }
 ],
 "metadata": {
  "file_extension": ".py",
  "interpreter": {
   "hash": "ac59ebe37160ed0dfa835113d9b8498d9f09ceb179beaac4002f036b9467c963"
  },
  "kernelspec": {
   "display_name": "Python 3 (ipykernel)",
   "language": "python",
   "name": "python3"
  },
  "language_info": {
   "codemirror_mode": {
    "name": "ipython",
    "version": 3
   },
   "file_extension": ".py",
   "mimetype": "text/x-python",
   "name": "python",
   "nbconvert_exporter": "python",
   "pygments_lexer": "ipython3",
   "version": "3.13.2"
  },
  "mimetype": "text/x-python",
  "name": "python",
  "npconvert_exporter": "python",
  "pygments_lexer": "ipython3",
  "version": 3
 },
 "nbformat": 4,
 "nbformat_minor": 4
}
